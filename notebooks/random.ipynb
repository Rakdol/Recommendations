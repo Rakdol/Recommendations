{
 "cells": [
  {
   "cell_type": "code",
   "execution_count": 1,
   "metadata": {},
   "outputs": [
    {
     "name": "stderr",
     "output_type": "stream",
     "text": [
      "/home/sm/miniconda3/envs/tf-env/lib/python3.10/site-packages/fuzzywuzzy/fuzz.py:11: UserWarning: Using slow pure-python SequenceMatcher. Install python-Levenshtein to remove this warning\n",
      "  warnings.warn('Using slow pure-python SequenceMatcher. Install python-Levenshtein to remove this warning')\n"
     ]
    }
   ],
   "source": [
    "import os\n",
    "import sys\n",
    "\n",
    "from pathlib import Path\n",
    "\n",
    "sys.path.append(str(Path(__name__).resolve().parents[1]))\n",
    "\n",
    "import pandas as pd\n",
    "import numpy as np\n",
    "\n",
    "\n",
    "from src.loader.movielens import MovieLensLoader\n",
    "from src.utils.metrics import RecSysMetrics\n",
    "\n",
    "import warnings\n",
    "\n",
    "warnings.filterwarnings(\"ignore\")"
   ]
  },
  {
   "cell_type": "code",
   "execution_count": 2,
   "metadata": {},
   "outputs": [],
   "source": [
    "movielens_loader = MovieLensLoader(\n",
    "    num_users=100,\n",
    "    num_test_items=5,\n",
    ")"
   ]
  },
  {
   "cell_type": "code",
   "execution_count": 3,
   "metadata": {},
   "outputs": [],
   "source": [
    "moivelens_dataset = movielens_loader.load()"
   ]
  },
  {
   "cell_type": "code",
   "execution_count": 4,
   "metadata": {},
   "outputs": [],
   "source": [
    "train = moivelens_dataset.train\n",
    "test = moivelens_dataset.test"
   ]
  },
  {
   "cell_type": "code",
   "execution_count": 5,
   "metadata": {},
   "outputs": [],
   "source": [
    "# Rating Prediction\n",
    "from typing import List, Dict\n",
    "from collections import defaultdict\n",
    "\n",
    "\n",
    "class RandomMovieRatingModel(object):\n",
    "    def __init__(self, unique_user_ids: List[int], unique_movie_ids: List[int]) -> None:\n",
    "\n",
    "        self.userid_index = dict(zip(unique_user_ids, range(len(unique_user_ids))))\n",
    "        self.movieid_index = dict(zip(unique_movie_ids, range(len(unique_movie_ids))))\n",
    "        self.random_pred_matrix = np.random.uniform(\n",
    "            0.5, 5.0, (len(unique_user_ids), len(unique_movie_ids))\n",
    "        )\n",
    "\n",
    "    def predict(self, test_rating: pd.DataFrame) -> List[float]:\n",
    "\n",
    "        pred_results = []\n",
    "\n",
    "        for i, row in test_rating.iterrows():\n",
    "            user_id = row[\"user_id\"]\n",
    "            movie_id = row[\"movie_id\"]\n",
    "            if movie_id not in self.movieid_index:\n",
    "                pred_results.append(np.random.uniform(0.5, 5.0))\n",
    "                continue\n",
    "\n",
    "            user_index = self.userid_index[user_id]\n",
    "            movie_index = self.movieid_index[movie_id]\n",
    "\n",
    "            pred_rating = self.random_pred_matrix[user_index, movie_index]\n",
    "            pred_results.append(pred_rating)\n",
    "\n",
    "        return pred_results\n",
    "\n",
    "\n",
    "class RandomMovieRankingModel(object):\n",
    "    def __init__(self, movielens_train: pd.DataFrame):\n",
    "        self.user_evaluated_movies = (\n",
    "            movielens_train.groupby(\"user_id\")\n",
    "            .agg({\"movie_id\": list})[\"movie_id\"]\n",
    "            .to_dict()\n",
    "        )\n",
    "\n",
    "    def predict(\n",
    "        self, unique_user_ids: List[int], unique_movie_ids: List[int], top_k: int = 10) -> Dict[int, List[int]]:\n",
    "        pred_user2items = defaultdict(list)\n",
    "        for user_id in unique_user_ids:\n",
    "            watched_movie_set = set(self.user_evaluated_movies[user_id])\n",
    "            all_movie_set = set(unique_movie_ids)\n",
    "            non_watched_movie = list(watched_movie_set ^ all_movie_set)\n",
    "\n",
    "            random_pred_ranking = np.random.choice(non_watched_movie, top_k)\n",
    "\n",
    "            pred_user2items[user_id].extend(random_pred_ranking)\n",
    "        return pred_user2items"
   ]
  },
  {
   "cell_type": "code",
   "execution_count": 6,
   "metadata": {},
   "outputs": [],
   "source": [
    "unique_user_ids = sorted(train.user_id.unique())\n",
    "unique_movie_ids = sorted(train.movie_id.unique())\n",
    "\n",
    "userid_index = dict(zip(unique_user_ids, range(len(unique_user_ids))))\n",
    "movieid_index = dict(zip(unique_movie_ids, range(len(unique_movie_ids))))\n",
    "movie_test_rating = test.copy()"
   ]
  },
  {
   "cell_type": "code",
   "execution_count": 7,
   "metadata": {},
   "outputs": [],
   "source": [
    "movie_rank_model = RandomMovieRankingModel(movielens_train=train)\n",
    "movie_rating_model = RandomMovieRatingModel(\n",
    "    unique_movie_ids=unique_movie_ids, unique_user_ids=unique_user_ids\n",
    ")"
   ]
  },
  {
   "cell_type": "code",
   "execution_count": 8,
   "metadata": {},
   "outputs": [],
   "source": [
    "pred_ratings = movie_rating_model.predict(test_rating=movie_test_rating)"
   ]
  },
  {
   "cell_type": "code",
   "execution_count": 9,
   "metadata": {},
   "outputs": [],
   "source": [
    "pred_ranking = movie_rank_model.predict(unique_user_ids, unique_movie_ids)"
   ]
  },
  {
   "cell_type": "code",
   "execution_count": 12,
   "metadata": {},
   "outputs": [
    {
     "name": "stdout",
     "output_type": "stream",
     "text": [
      "Test MAE rating 1.7266766414853625\n",
      "Test MSE rating 4.409018120551929\n",
      "Test RMSE rating 2.0997662061648503\n",
      "Test Precision@k 0.0044943820224719105\n",
      "Test Recall@k 0.012921348314606741\n"
     ]
    }
   ],
   "source": [
    "print(\"Test MAE rating\", RecSysMetrics().mae(test[\"rating\"], pred_ratings))\n",
    "print(\"Test MSE rating\", RecSysMetrics().mse(test[\"rating\"], pred_ratings))\n",
    "print(\"Test RMSE rating\", RecSysMetrics().rmse(test[\"rating\"], pred_ratings))\n",
    "print(\n",
    "    \"Test Precision@k\",\n",
    "    RecSysMetrics().calc_precision_at_k(\n",
    "        moivelens_dataset.test_user2item, pred_ranking, 10\n",
    "    ),\n",
    ")\n",
    "\n",
    "print(\n",
    "    \"Test Recall@k\",\n",
    "    RecSysMetrics().calc_recall_at_k(\n",
    "        moivelens_dataset.test_user2item, pred_ranking, 10\n",
    "    ),\n",
    ")"
   ]
  },
  {
   "cell_type": "code",
   "execution_count": null,
   "metadata": {},
   "outputs": [],
   "source": []
  }
 ],
 "metadata": {
  "kernelspec": {
   "display_name": "tf-env",
   "language": "python",
   "name": "python3"
  },
  "language_info": {
   "codemirror_mode": {
    "name": "ipython",
    "version": 3
   },
   "file_extension": ".py",
   "mimetype": "text/x-python",
   "name": "python",
   "nbconvert_exporter": "python",
   "pygments_lexer": "ipython3",
   "version": "3.10.14"
  }
 },
 "nbformat": 4,
 "nbformat_minor": 2
}
