{
 "cells": [
  {
   "cell_type": "code",
   "execution_count": 22,
   "metadata": {},
   "outputs": [],
   "source": [
    "import os\n",
    "import sys\n",
    "\n",
    "from pathlib import Path\n",
    "from collections import defaultdict\n",
    "\n",
    "sys.path.append(str(Path(__name__).resolve().parents[1]))\n",
    "\n",
    "import pandas as pd\n",
    "import numpy as np\n",
    "\n",
    "\n",
    "from src.loader.movielens import MovieLensLoader\n",
    "from src.utils.metrics import RecSysMetrics\n",
    "\n",
    "import warnings\n",
    "\n",
    "warnings.filterwarnings(\"ignore\")"
   ]
  },
  {
   "cell_type": "code",
   "execution_count": 16,
   "metadata": {},
   "outputs": [],
   "source": [
    "movielens_loader = MovieLensLoader(\n",
    "    num_users=1000,\n",
    "    num_test_items=5,\n",
    ")"
   ]
  },
  {
   "cell_type": "code",
   "execution_count": 17,
   "metadata": {},
   "outputs": [],
   "source": [
    "moivelens_dataset = movielens_loader.load()"
   ]
  },
  {
   "cell_type": "code",
   "execution_count": 18,
   "metadata": {},
   "outputs": [],
   "source": [
    "train = moivelens_dataset.train\n",
    "test = moivelens_dataset.test\n",
    "rank_test = moivelens_dataset.test_user2item"
   ]
  },
  {
   "cell_type": "code",
   "execution_count": 19,
   "metadata": {},
   "outputs": [
    {
     "data": {
      "text/plain": [
       "(943, 943)"
      ]
     },
     "execution_count": 19,
     "metadata": {},
     "output_type": "execute_result"
    }
   ],
   "source": [
    "train[\"user_id\"].nunique(), test[\"user_id\"].nunique()"
   ]
  },
  {
   "cell_type": "code",
   "execution_count": 20,
   "metadata": {},
   "outputs": [
    {
     "data": {
      "text/plain": [
       "(1671, 1080)"
      ]
     },
     "execution_count": 20,
     "metadata": {},
     "output_type": "execute_result"
    }
   ],
   "source": [
    "train[\"movie_id\"].nunique(), test[\"movie_id\"].nunique()"
   ]
  },
  {
   "cell_type": "code",
   "execution_count": 21,
   "metadata": {},
   "outputs": [],
   "source": [
    "def pearson_coefficient(u: np.ndarray, v: np.ndarray) -> float:\n",
    "    u_diff = u - np.mean(u)\n",
    "    v_diff = v - np.mean(v)\n",
    "    numerator = np.dot(u_diff, v_diff)\n",
    "    denominator = np.sqrt(sum(u_diff ** 2)) * np.sqrt(sum(v_diff ** 2))\n",
    "    if denominator == 0:\n",
    "        return 0.0\n",
    "    return numerator / denominator"
   ]
  },
  {
   "cell_type": "code",
   "execution_count": 23,
   "metadata": {},
   "outputs": [],
   "source": [
    "user_movie_matrix = train.pivot(index=\"user_id\", columns=\"movie_id\", values=\"rating\")"
   ]
  },
  {
   "cell_type": "code",
   "execution_count": 25,
   "metadata": {},
   "outputs": [],
   "source": [
    "user_id_indices = dict(zip(user_movie_matrix.index, range(len(user_movie_matrix.index))))\n",
    "movie_id_indices = dict(zip(user_movie_matrix.columns, range(len(user_movie_matrix.columns))))"
   ]
  },
  {
   "cell_type": "code",
   "execution_count": 27,
   "metadata": {},
   "outputs": [],
   "source": [
    "movie_rating_predict = test.copy()\n",
    "pred_user2items = defaultdict(list)"
   ]
  },
  {
   "cell_type": "code",
   "execution_count": 37,
   "metadata": {},
   "outputs": [],
   "source": [
    "test_users = movie_rating_predict.user_id.unique()\n",
    "\n",
    "for user1_id in test_users:\n",
    "    similar_users = []\n",
    "    similarities = []\n",
    "    avgs = []\n",
    "\n",
    "    for user2_id in user_movie_matrix.index:\n",
    "        if user1_id == user2_id:\n",
    "            continue\n",
    "\n",
    "        u_1 = user_movie_matrix.loc[user1_id, :].to_numpy()\n",
    "        u_2 = user_movie_matrix.loc[user2_id, :].to_numpy()\n",
    "\n",
    "        # 유저가 동시에 평가한 항목만 추출\n",
    "        common_items = ~np.isnan(u_1) & ~np.isnan(u_2)\n",
    "\n",
    "        # 동시에 평가한 항목이 없으면 스킵\n",
    "        if not common_items.any():\n",
    "            continue\n",
    "\n",
    "        u_1, u_2 = u_1[common_items], u_2[common_items]\n",
    "\n",
    "        rho_12 = pearson_coefficient(u_1, u_2)\n",
    "\n",
    "        if rho_12 > 0:\n",
    "            similar_users.append(user2_id)\n",
    "            similarities.append(rho_12)\n",
    "            avgs.append(np.mean(u_2))\n",
    "\n",
    "\n",
    "    # 사용자 1의 평균 평갓값\n",
    "    avg_1 = np.mean(user_movie_matrix.loc[user1_id, :].dropna().to_numpy())\n",
    "\n",
    "    test_movies = movie_rating_predict[movie_rating_predict[\"user_id\"] == user1_id].movie_id.values\n",
    "    # 예측할 수 없는 영화에 대한 평갓값은 사용자 1의 평균 평갓값으로 한다\n",
    "    movie_rating_predict.loc[(movie_rating_predict[\"user_id\"] == user1_id), \"rating_pred\"] = avg_1\n",
    "\n",
    "    if similar_users:\n",
    "        for movie_id in test_movies:\n",
    "            if movie_id in movie_id_indices:\n",
    "                r_xy = user_movie_matrix.loc[similar_users, movie_id].to_numpy()\n",
    "                rating_exists = ~np.isnan(r_xy)\n",
    "\n",
    "                # 유사 사용자가 대상이 되는 영화에 대한 평갓값을 갖지 않은 경우는 스킵한다\n",
    "                if not rating_exists.any():\n",
    "                    continue\n",
    "            \n",
    "                r_xy = r_xy[rating_exists]\n",
    "                rho_1x = np.array(similarities)[rating_exists]\n",
    "                avg_x = np.array(avgs)[rating_exists]\n",
    "                r_hat_1y = avg_1 + np.dot(rho_1x, (r_xy - avg_x)) / rho_1x.sum()\n",
    "\n",
    "                # 예측 평갓값을 저장\n",
    "                movie_rating_predict.loc[\n",
    "                    (movie_rating_predict[\"user_id\"] == user1_id)\n",
    "                    & (movie_rating_predict[\"movie_id\"] == movie_id),\n",
    "                    \"rating_pred\",\n",
    "                ] = r_hat_1y\n",
    "    break # 계산이 무거우므로, for 루프는 1번만 수행한 뒤 종료합니다. 각 변수에 어떤 값이 들어있는지 확인하면 알고리즘을 더 깊이 이해할 수 있습니다."
   ]
  },
  {
   "cell_type": "code",
   "execution_count": 41,
   "metadata": {},
   "outputs": [],
   "source": [
    "from surprise import KNNWithMeans, Reader\n",
    "from surprise import Dataset as SurpriseDataset"
   ]
  },
  {
   "cell_type": "code",
   "execution_count": 42,
   "metadata": {},
   "outputs": [],
   "source": [
    "from src.models.base import BaseModel\n",
    "\n",
    "class UserMemoryModel(BaseModel):\n",
    "    def __init__(self, movielens_train:pd.DataFrame) -> None:\n",
    "        self.user_movie_matrix = movielens_train.pivot(index=\"user_id\", columns=\"movie_id\", values=\"rating\")\n",
    "        self.user_id_indices = dict(zip(self.user_movie_matrix.index, range(len(self.user_movie_matrix.index))))\n",
    "        self.movie_id_indices = dict(zip(self.user_movie_matrix.columns, range(len(self.user_movie_matrix.columns))))\n",
    "\n",
    "        reader = Reader(rating_scale=(0.5, 5))\n",
    "        self.train_set = SurpriseDataset.load_from_df(movielens_train[[\"user_id\", \"movie_id\", \"rating\"]], reader).build_full_trainset()\n",
    "        sim_options = {\n",
    "            \"name\": \"pearson\",\n",
    "            \"user_based\": True\n",
    "        }\n",
    "        self.average_score = movielens_train.rating.mean()\n",
    "\n",
    "        self.knn = KNNWithMeans(k=30, min_k=1, sim_options=sim_options)\n",
    "        self.knn.fit(self.train_set)\n",
    "\n",
    "    def _get_top_n(self, predictions:np.ndarray, n=10) -> dict[list[float]]:\n",
    "        top_n = defaultdict(list)\n",
    "        for uid, iid, true_r, est, _ in predictions:\n",
    "            top_n[uid].append((iid, est))\n",
    "\n",
    "        for uid, user_ratings in top_n.items():\n",
    "            user_ratings.sort(key=lambda x: x[1], reverse=True)\n",
    "            top_n[uid] = [d[0] for d in user_ratings[:n]]\n",
    "        \n",
    "        return top_n\n",
    "\n",
    "    def predict(self, movielens_test: pd.DataFrame):\n",
    "        movie_rating_predict = movielens_test.copy()\n",
    "        pred_user2items = defaultdict(list)\n",
    "        data_test = self.train_set.build_anti_testset(None)\n",
    "        predictions = self.knn.test(data_test)\n",
    "\n",
    "        pred_user2items = self._get_top_n(predictions, n=10)\n",
    "\n",
    "        pred_results = []\n",
    "\n",
    "        for _, row in movielens_test.iterrows():\n",
    "            user_id = row[\"user_id\"]\n",
    "            movie_id = row[\"movie_id\"]\n",
    "\n",
    "            if user_id not in self.user_id_indices or movie_id not in self.movie_id_indices:\n",
    "                pred_results.append(self.average_score)\n",
    "                continue\n",
    "\n",
    "            pred_score = self.knn.predict(uid=user_id, iid=movie_id).est\n",
    "            pred_results.append(pred_score)\n",
    "        \n",
    "        return pred_user2items, pred_results"
   ]
  },
  {
   "cell_type": "code",
   "execution_count": 43,
   "metadata": {},
   "outputs": [
    {
     "name": "stdout",
     "output_type": "stream",
     "text": [
      "Computing the pearson similarity matrix...\n",
      "Done computing similarity matrix.\n"
     ]
    }
   ],
   "source": [
    "user_memory_model = UserMemoryModel(train)\n",
    "pred_ranking, pred_ratings = user_memory_model.predict(test)"
   ]
  },
  {
   "cell_type": "code",
   "execution_count": 44,
   "metadata": {},
   "outputs": [
    {
     "name": "stdout",
     "output_type": "stream",
     "text": [
      "Test MAE rating 0.8160624924710785\n",
      "Test MSE rating 1.0737931383678587\n",
      "Test RMSE rating 1.0362399038677572\n",
      "Test Precision@k 0.0017177914110429449\n",
      "Test Recall@k 0.004826175869120654\n"
     ]
    }
   ],
   "source": [
    "print(\"Test MAE rating\", RecSysMetrics().mae(test[\"rating\"], pred_ratings))\n",
    "print(\"Test MSE rating\", RecSysMetrics().mse(test[\"rating\"], pred_ratings))\n",
    "print(\"Test RMSE rating\", RecSysMetrics().rmse(test[\"rating\"], pred_ratings))\n",
    "print(\n",
    "    \"Test Precision@k\",\n",
    "    RecSysMetrics().calc_precision_at_k(\n",
    "        moivelens_dataset.test_user2item, pred_ranking, 10\n",
    "    ),\n",
    ")\n",
    "\n",
    "print(\n",
    "    \"Test Recall@k\",\n",
    "    RecSysMetrics().calc_recall_at_k(\n",
    "        moivelens_dataset.test_user2item, pred_ranking, 10\n",
    "    ),\n",
    ")"
   ]
  }
 ],
 "metadata": {
  "kernelspec": {
   "display_name": "ml-env",
   "language": "python",
   "name": "python3"
  },
  "language_info": {
   "codemirror_mode": {
    "name": "ipython",
    "version": 3
   },
   "file_extension": ".py",
   "mimetype": "text/x-python",
   "name": "python",
   "nbconvert_exporter": "python",
   "pygments_lexer": "ipython3",
   "version": "3.11.9"
  }
 },
 "nbformat": 4,
 "nbformat_minor": 2
}
